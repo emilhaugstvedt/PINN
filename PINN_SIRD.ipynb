{
 "cells": [
  {
   "cell_type": "markdown",
   "metadata": {},
   "source": [
    "# PINN - SIRD\n",
    "\n",
    "A SIR model is a model describing how the number of susceptible, infected, recovered and dead persons co-vary.\n",
    "\n",
    "The equations determing the realtionsship between these number are:\n",
    "\n",
    "$$\n",
    "\\frac{ds}{dt} = \\frac{-\\beta s(t) i(t)}{N}  \\\\\n",
    "$$\n",
    "$$\n",
    "\\frac{di}{dt} = \\frac{\\beta s(t)i(t)}{N} -(\\gamma + \\mu) i(t) \\\\\n",
    "$$\n",
    "$$\n",
    "\\frac{dr}{dt} = \\gamma i(t)\n",
    "$$\n",
    "\n",
    "$$\n",
    "\\frac{dd}{dt} = \\mu i(t)\n",
    "$$\n",
    "\n",
    "The different parameters describes:\n",
    "\n",
    "\\- $\\boldsymbol{\\beta}$: Governs how contagious the diseas, how many of the infected persons will infect susceptible persons.\n",
    "\n",
    "\\- $\\boldsymbol{\\gamma}$: Governs how many of the infected persons that will recover.\n",
    "\n",
    "\\- $\\boldsymbol{\\mu}$: Governs how many of the infected persons that will die.\n",
    "\n",
    "In this notebook I will try to solve a SIRD disease model first using an ordinary differential equation solver, then using a PINN. After that we will try to do parameter estimation based on the ODE solution using a PINN.\n",
    "\n",
    "First we set up the parameter values and initial conditions for the equation:\n"
   ]
  },
  {
   "cell_type": "code",
   "execution_count": 109,
   "metadata": {},
   "outputs": [],
   "source": [
    "# Define time domain:\n",
    "T = 1000 \n",
    "num_samples = 2046\n",
    "num_boundary = 8\n",
    "\n",
    "# Defining parameters:\n",
    "beta = 1/50\n",
    "gamma = 1/150\n",
    "mu = 1/600\n",
    "\n",
    "# Set initial values:\n",
    "N = 10  \n",
    "i0 = 1\n",
    "r0 = 0\n",
    "d0 = 0\n",
    "s0 = N - i0 - r0 - d0"
   ]
  },
  {
   "cell_type": "markdown",
   "metadata": {},
   "source": [
    "## Solve using ODE solver:"
   ]
  },
  {
   "cell_type": "code",
   "execution_count": 36,
   "metadata": {},
   "outputs": [],
   "source": [
    "from scipy import integrate\n",
    "import numpy as np\n",
    "import matplotlib.pyplot as plt"
   ]
  },
  {
   "cell_type": "code",
   "execution_count": 37,
   "metadata": {},
   "outputs": [],
   "source": [
    "# Defining the derivatives of the equation.\n",
    "def derivatives(y, t, N, beta, gamma, mu):\n",
    "    s, i, r, d = y\n",
    "\n",
    "    # Equations:\n",
    "    ds_dt = - beta * s * i / N\n",
    "    di_dt = beta * s * i / N - (gamma + mu) * i\n",
    "    dr_dt = gamma * i\n",
    "    dd_dt = mu * i \n",
    "    \n",
    "    return ds_dt, di_dt, dr_dt, dd_dt"
   ]
  },
  {
   "cell_type": "code",
   "execution_count": 38,
   "metadata": {},
   "outputs": [],
   "source": [
    "# Create time vector: \n",
    "t = np.linspace(0, T, num_samples)\n",
    "\n",
    "# Set initial values\n",
    "y0 = s0, i0, r0, d0"
   ]
  },
  {
   "cell_type": "code",
   "execution_count": 39,
   "metadata": {},
   "outputs": [],
   "source": [
    "# Solve equation:\n",
    "sol = integrate.odeint(derivatives, y0, t, args= (N, beta, gamma, mu))\n",
    "\n",
    "# Get the values from the solution:\n",
    "s_true, i_true, r_true, d_true = sol.T\n",
    "s_true = s_true.reshape(-1, 1)\n",
    "i_true = i_true.reshape(-1, 1)\n",
    "r_true = r_true.reshape(-1, 1)\n",
    "d_true = d_true.reshape(-1, 1)"
   ]
  },
  {
   "cell_type": "code",
   "execution_count": 40,
   "metadata": {},
   "outputs": [
    {
     "data": {
      "image/png": "[encoded data removed]",
      "text/plain": [
       "<Figure size 648x360 with 1 Axes>"
      ]
     },
     "metadata": {
      "needs_background": "light"
     },
     "output_type": "display_data"
    }
   ],
   "source": [
    "# Plot the solution:\n",
    "plt.figure(figsize= (9, 5))\n",
    "plt.plot(t, s_true, color=\"blue\"), plt.plot(t, i_true, color=\"yellow\"),\n",
    "plt.plot(t, r_true, color=\"green\"), plt.plot(t, d_true, color= \"black\")\n",
    "plt.legend([\"Susceptible\", \"Infected\", \"Recovered\", \"Dead\"])\n",
    "plt.title(\"Numerical solution to SIRD model\")\n",
    "plt.xlabel(\"t\")\n",
    "plt.ylabel(\"Number of people\")\n",
    "\n",
    "plt.savefig(\"figures/NumericalSIRD.png\", dpi= 300)"
   ]
  },
  {
   "cell_type": "markdown",
   "metadata": {},
   "source": [
    "## Solve using PINN:\n"
   ]
  },
  {
   "cell_type": "code",
   "execution_count": 41,
   "metadata": {},
   "outputs": [],
   "source": [
    "import deepxde as dde"
   ]
  },
  {
   "cell_type": "code",
   "execution_count": 42,
   "metadata": {},
   "outputs": [],
   "source": [
    "# Define the equations as a system of ODEs:\n",
    "def ode_system(x, y):\n",
    "\n",
    "    # Get output values from network:\n",
    "    s = y[:, 0:1]\n",
    "    i = y[:, 1:2]\n",
    "    r = y[:, 2:3]\n",
    "    d = y[:, 3:4]\n",
    "\n",
    "    # Calculate gradients:\n",
    "    ds_dt = dde.grad.jacobian(y, x, i= 0)\n",
    "    di_dt = dde.grad.jacobian(y, x, i= 1)\n",
    "    dr_dt = dde.grad.jacobian(y, x, i= 2)\n",
    "    dd_dt = dde.grad.jacobian(y, x, i= 3)\n",
    "    \n",
    "    return [\n",
    "    ds_dt + beta * s * i / N,\n",
    "    di_dt - beta * s * i / N + gamma * i + mu * i,\n",
    "    dr_dt - gamma * i,\n",
    "    dd_dt - mu * i\n",
    "    ]"
   ]
  },
  {
   "cell_type": "code",
   "execution_count": 43,
   "metadata": {},
   "outputs": [],
   "source": [
    "# Define the time domain of the ODE:\n",
    "geom = dde.geometry.TimeDomain(0, T)\n",
    "\n",
    "# Create the boundary function to determine if x is on the boundary or not:\n",
    "def boundary(_, on_initial):\n",
    "    return on_initial\n",
    "\n",
    "# Specify the intial values:\n",
    "ic_s = dde.IC(geom, lambda X: s0, boundary, component= 0)\n",
    "ic_i = dde.IC(geom, lambda X: i0, boundary, component= 1)\n",
    "ic_r = dde.IC(geom, lambda X: r0, boundary, component= 2)\n",
    "ic_d = dde.IC(geom, lambda X: d0, boundary, component= 3)"
   ]
  },
  {
   "cell_type": "code",
   "execution_count": 44,
   "metadata": {},
   "outputs": [],
   "source": [
    "# Create the equation:\n",
    "data = dde.data.PDE(geom, ode_system, [ic_s, ic_i, ic_r, ic_d], num_samples, num_boundary, num_test=500)"
   ]
  },
  {
   "cell_type": "code",
   "execution_count": 45,
   "metadata": {},
   "outputs": [],
   "source": [
    "# Define and create the neural network:\n",
    "layer_size = [1] + [32] * 3 + [4]\n",
    "activation = \"tanh\"\n",
    "initializer = \"Glorot normal\"\n",
    "net = dde.maps.FNN(layer_size, activation, initializer)"
   ]
  },
  {
   "cell_type": "code",
   "execution_count": 70,
   "metadata": {},
   "outputs": [],
   "source": [
    "# Combine the data and network into a model:\n",
    "model = dde.Model(data, net)"
   ]
  },
  {
   "cell_type": "code",
   "execution_count": 50,
   "metadata": {},
   "outputs": [
    {
     "name": "stdout",
     "output_type": "stream",
     "text": [
      "Compiling model...\n"
     ]
    },
    {
     "name": "stderr",
     "output_type": "stream",
     "text": [
      "2021-12-02 10:51:34.211398: I tensorflow/core/common_runtime/pluggable_device/pluggable_device_factory.cc:305] Could not identify NUMA node of platform GPU ID 0, defaulting to 0. Your kernel may not have been built with NUMA support.\n",
      "2021-12-02 10:51:34.211717: I tensorflow/core/common_runtime/pluggable_device/pluggable_device_factory.cc:271] Created TensorFlow device (/job:localhost/replica:0/task:0/device:GPU:0 with 0 MB memory) -> physical PluggableDevice (device: 0, name: METAL, pci bus id: <undefined>)\n"
     ]
    },
    {
     "name": "stdout",
     "output_type": "stream",
     "text": [
      "'compile' took 0.516143 s\n",
      "\n",
      "Initializing variables...\n",
      "Training model...\n",
      "\n"
     ]
    },
    {
     "name": "stderr",
     "output_type": "stream",
     "text": [
      "2021-12-02 10:51:34.785229: I tensorflow/core/grappler/optimizers/custom_graph_optimizer_registry.cc:112] Plugin optimizer for device_type GPU is enabled.\n",
      "2021-12-02 10:51:34.838823: I tensorflow/core/grappler/optimizers/custom_graph_optimizer_registry.cc:112] Plugin optimizer for device_type GPU is enabled.\n"
     ]
    },
    {
     "name": "stdout",
     "output_type": "stream",
     "text": [
      "0         [2.89e-04, 5.86e-04, 2.00e-04, 1.52e-04, 8.10e+01, 1.00e+00, 0.00e+00, 0.00e+00]    [3.48e-05, 1.54e-04, 1.26e-04, 1.19e-05, 8.10e+01, 1.00e+00, 0.00e+00, 0.00e+00]    []  \n"
     ]
    },
    {
     "name": "stderr",
     "output_type": "stream",
     "text": [
      "2021-12-02 10:51:35.278585: I tensorflow/core/grappler/optimizers/custom_graph_optimizer_registry.cc:112] Plugin optimizer for device_type GPU is enabled.\n"
     ]
    },
    {
     "name": "stdout",
     "output_type": "stream",
     "text": [
      "1000      [3.37e-04, 2.79e-05, 2.11e-05, 2.63e-06, 4.31e-01, 6.43e-06, 3.95e-12, 6.40e-09]    [2.25e-04, 2.45e-05, 2.10e-05, 2.23e-06, 4.31e-01, 6.43e-06, 3.95e-12, 6.40e-09]    []  \n",
      "\n",
      "Best model at step 1000:\n",
      "  train loss: 4.31e-01\n",
      "  test loss: 4.31e-01\n",
      "  test metric: []\n",
      "\n",
      "'train' took 29.352036 s\n",
      "\n",
      "Compiling model...\n",
      "'compile' took 0.325843 s\n",
      "\n"
     ]
    },
    {
     "name": "stderr",
     "output_type": "stream",
     "text": [
      "2021-12-02 10:52:04.520756: I tensorflow/core/grappler/optimizers/custom_graph_optimizer_registry.cc:112] Plugin optimizer for device_type GPU is enabled.\n",
      "2021-12-02 10:52:04.627826: I tensorflow/core/grappler/optimizers/custom_graph_optimizer_registry.cc:112] Plugin optimizer for device_type GPU is enabled.\n",
      "2021-12-02 10:52:04.654203: I tensorflow/core/grappler/optimizers/custom_graph_optimizer_registry.cc:112] Plugin optimizer for device_type GPU is enabled.\n"
     ]
    },
    {
     "name": "stdout",
     "output_type": "stream",
     "text": [
      "Training model...\n",
      "\n",
      "Step      Train loss                                                                          Test loss                                                                           Test metric\n",
      "1000      [3.37e-04, 2.79e-05, 2.11e-05, 2.63e-06, 4.31e-01, 6.43e-06, 3.95e-12, 6.40e-09]    [2.25e-04, 2.45e-05, 2.10e-05, 2.23e-06, 4.31e-01, 6.43e-06, 3.95e-12, 6.40e-09]    []  \n"
     ]
    },
    {
     "name": "stderr",
     "output_type": "stream",
     "text": [
      "2021-12-02 10:52:05.035594: I tensorflow/core/grappler/optimizers/custom_graph_optimizer_registry.cc:112] Plugin optimizer for device_type GPU is enabled.\n"
     ]
    },
    {
     "name": "stdout",
     "output_type": "stream",
     "text": [
      "10000     [2.42e-05, 2.06e-05, 6.04e-06, 4.50e-07, 1.10e-10, 1.08e-09, 1.90e-13, 2.62e-11]    [9.31e-06, 1.65e-05, 6.02e-06, 3.43e-07, 1.10e-10, 1.08e-09, 1.90e-13, 2.62e-11]    []  \n",
      "20000     [2.10e-06, 1.55e-05, 5.83e-07, 3.85e-08, 3.64e-12, 3.77e-11, 6.07e-12, 5.35e-11]    [3.09e-07, 1.53e-05, 5.45e-07, 3.61e-08, 3.64e-12, 3.77e-11, 6.07e-12, 5.35e-11]    []  \n",
      "30000     [1.14e-06, 5.26e-06, 1.24e-06, 1.38e-07, 2.33e-10, 1.15e-12, 1.18e-11, 6.10e-11]    [8.09e-07, 5.28e-06, 1.25e-06, 1.38e-07, 2.33e-10, 1.15e-12, 1.18e-11, 6.10e-11]    []  \n",
      "40000     [3.46e-07, 1.06e-06, 5.41e-07, 1.17e-07, 6.15e-10, 9.09e-11, 1.55e-10, 1.43e-10]    [2.73e-07, 1.06e-06, 5.45e-07, 1.17e-07, 6.15e-10, 9.09e-11, 1.55e-10, 1.43e-10]    []  \n",
      "50000     [1.50e-07, 3.18e-07, 2.42e-07, 3.46e-08, 1.78e-10, 8.19e-12, 2.06e-11, 1.06e-10]    [1.12e-07, 3.18e-07, 2.44e-07, 3.47e-08, 1.78e-10, 8.19e-12, 2.06e-11, 1.06e-10]    []  \n",
      "60000     [9.37e-08, 1.82e-07, 1.47e-07, 1.68e-08, 6.15e-10, 4.40e-10, 1.42e-10, 1.40e-10]    [6.46e-08, 1.82e-07, 1.48e-07, 1.68e-08, 6.15e-10, 4.40e-10, 1.42e-10, 1.40e-10]    []  \n",
      "70000     [6.47e-08, 1.19e-07, 9.98e-08, 1.02e-08, 1.78e-10, 6.27e-12, 2.50e-11, 4.54e-12]    [4.36e-08, 1.19e-07, 1.00e-07, 1.02e-08, 1.78e-10, 6.27e-12, 2.50e-11, 4.54e-12]    []  \n",
      "80000     [4.60e-08, 8.27e-08, 7.09e-08, 7.81e-09, 9.09e-13, 2.16e-11, 4.52e-12, 1.10e-11]    [3.26e-08, 8.26e-08, 7.12e-08, 7.81e-09, 9.09e-13, 2.16e-11, 4.52e-12, 1.10e-11]    []  \n",
      "90000     [3.35e-08, 5.92e-08, 5.30e-08, 6.79e-09, 1.54e-10, 1.64e-11, 3.70e-11, 1.42e-11]    [2.42e-08, 5.92e-08, 5.33e-08, 6.80e-09, 1.54e-10, 1.64e-11, 3.70e-11, 1.42e-11]    []  \n",
      "100000    [2.91e-08, 4.31e-08, 3.94e-08, 5.93e-09, 2.63e-10, 3.07e-11, 1.07e-10, 2.62e-11]    [2.10e-08, 4.30e-08, 3.96e-08, 5.94e-09, 2.63e-10, 3.07e-11, 1.07e-10, 2.62e-11]    []  \n",
      "110000    [2.50e-08, 3.21e-08, 3.02e-08, 5.33e-09, 1.18e-09, 5.68e-10, 6.54e-10, 2.12e-12]    [1.76e-08, 3.20e-08, 3.04e-08, 5.34e-09, 1.18e-09, 5.68e-10, 6.54e-10, 2.12e-12]    []  \n",
      "120000    [1.96e-08, 2.49e-08, 2.49e-08, 4.89e-09, 4.46e-11, 3.64e-12, 2.06e-11, 6.61e-14]    [1.28e-08, 2.48e-08, 2.50e-08, 4.90e-09, 4.46e-11, 3.64e-12, 2.06e-11, 6.61e-14]    []  \n",
      "130000    [1.76e-08, 1.91e-08, 1.95e-08, 4.43e-09, 1.10e-10, 2.69e-11, 1.20e-12, 1.95e-11]    [1.13e-08, 1.90e-08, 1.96e-08, 4.44e-09, 1.10e-10, 2.69e-11, 1.20e-12, 1.95e-11]    []  \n",
      "140000    [1.54e-08, 1.50e-08, 1.58e-08, 4.03e-09, 5.82e-11, 8.43e-11, 1.44e-11, 1.40e-11]    [9.45e-09, 1.49e-08, 1.59e-08, 4.04e-09, 5.82e-11, 8.43e-11, 1.44e-11, 1.40e-11]    []  \n",
      "150000    [1.39e-08, 1.18e-08, 1.28e-08, 3.67e-09, 1.46e-11, 4.11e-12, 7.15e-13, 2.85e-11]    [8.25e-09, 1.17e-08, 1.29e-08, 3.68e-09, 1.46e-11, 4.11e-12, 7.15e-13, 2.85e-11]    []  \n",
      "151000    [1.29e-08, 1.18e-08, 1.33e-08, 3.66e-09, 1.46e-11, 1.18e-10, 4.57e-11, 5.63e-12]    [7.28e-09, 1.17e-08, 1.33e-08, 3.67e-09, 1.46e-11, 1.18e-10, 4.57e-11, 5.63e-12]    []  \n",
      "\n",
      "Best model at step 151000:\n",
      "  train loss: 4.18e-08\n",
      "  test loss: 3.61e-08\n",
      "  test metric: []\n",
      "\n",
      "'train' took 3912.655325 s\n",
      "\n"
     ]
    }
   ],
   "source": [
    "# Training:\n",
    "model.compile(\"adam\", lr=0.0001)\n",
    "losshistory, train_state = model.train(epochs= 1000)\n",
    "\n",
    "model.compile(\"adam\", lr=0.00001)\n",
    "losshistory, train_state = model.train(epochs= 150000, display_every= 10000)"
   ]
  },
  {
   "cell_type": "code",
   "execution_count": 54,
   "metadata": {},
   "outputs": [
    {
     "data": {
      "image/png": "[encoded data removed]",
      "text/plain": [
       "<Figure size 432x288 with 1 Axes>"
      ]
     },
     "metadata": {
      "needs_background": "light"
     },
     "output_type": "display_data"
    },
    {
     "data": {
      "image/png": "[encoded data removed]",
      "text/plain": [
       "<Figure size 432x288 with 1 Axes>"
      ]
     },
     "metadata": {
      "needs_background": "light"
     },
     "output_type": "display_data"
    }
   ],
   "source": [
    "# Plot:\n",
    "dde.saveplot(losshistory, train_state, issave=False, isplot=True)"
   ]
  },
  {
   "cell_type": "code",
   "execution_count": 55,
   "metadata": {},
   "outputs": [
    {
     "name": "stderr",
     "output_type": "stream",
     "text": [
      "2021-12-02 11:58:37.274064: I tensorflow/core/grappler/optimizers/custom_graph_optimizer_registry.cc:112] Plugin optimizer for device_type GPU is enabled.\n"
     ]
    },
    {
     "data": {
      "image/png": "[encoded data removed]",
      "text/plain": [
       "<Figure size 432x288 with 1 Axes>"
      ]
     },
     "metadata": {
      "needs_background": "light"
     },
     "output_type": "display_data"
    }
   ],
   "source": [
    "t = np.reshape(np.linspace(0, T, num_samples), (-1, 1))\n",
    "sol_pred = model.predict(t)\n",
    "s_pred = sol_pred[:, 0:1]\n",
    "i_pred = sol_pred[:, 1:2]\n",
    "r_pred =sol_pred[:, 2:3]\n",
    "d_pred = sol_pred[:, 3:4]\n",
    "\n",
    "\n",
    "plt.xlabel(\"t\")\n",
    "plt.ylabel(\"population\")\n",
    "plt.plot(t, s_pred, color=\"red\", label=\"s_pred\")\n",
    "plt.plot(t, i_pred, color=\"orange\", label=\"i_pred\")\n",
    "plt.plot(t, r_pred, color=\"blue\", label=\"r_pred\")\n",
    "plt.plot(t, d_pred, color=\"green\", label=\"d_pred\")\n",
    "plt.plot(t, s_true, color=\"red\", label=\"s_true\", linestyle=\"dashed\")\n",
    "plt.plot(t, i_true, color=\"orange\", label=\"i_true\", linestyle=\"dashed\")\n",
    "plt.plot(t, r_true, color=\"blue\", label=\"r_true\", linestyle=\"dashed\")\n",
    "plt.plot(t, d_true, color=\"green\", label=\"d_true\", linestyle=\"dashed\")\n",
    "plt.legend()\n",
    "plt.show()"
   ]
  },
  {
   "cell_type": "markdown",
   "metadata": {},
   "source": [
    "## Solve inverse problem using PINN:"
   ]
  },
  {
   "cell_type": "code",
   "execution_count": 89,
   "metadata": {},
   "outputs": [],
   "source": [
    "# Get the solution from the ODE solver:\n",
    "s_true, i_true, r_true, d_true = sol.T\n",
    "y_true = np.concatenate([s_true.reshape(-1, 1),\n",
    "                    i_true.reshape(-1, 1),\n",
    "                    r_true.reshape(-1, 1),\n",
    "                    d_true.reshape(-1, 1)], axis= 1)\n"
   ]
  },
  {
   "cell_type": "code",
   "execution_count": 110,
   "metadata": {},
   "outputs": [],
   "source": [
    "# Defining the variables we want to estimate:\n",
    "est_beta = dde.Variable(0.0)\n",
    "est_gamma = dde.Variable(0.0)\n",
    "est_mu = dde.Variable(0.0)"
   ]
  },
  {
   "cell_type": "code",
   "execution_count": 111,
   "metadata": {},
   "outputs": [],
   "source": [
    "# Define the equations as a system of ODEs:\n",
    "def ode_system(x, y):\n",
    "\n",
    "    # Get output values from network:\n",
    "    s = y[:, 0:1]\n",
    "    i = y[:, 1:2]\n",
    "    r = y[:, 2:3]\n",
    "    d = y[:, 3:4]\n",
    "\n",
    "    # Calculate gradients:\n",
    "    ds_dt = dde.grad.jacobian(y, x, i= 0)\n",
    "    di_dt = dde.grad.jacobian(y, x, i= 1)\n",
    "    dr_dt = dde.grad.jacobian(y, x, i= 2)\n",
    "    dd_dt = dde.grad.jacobian(y, x, i= 3)\n",
    "    \n",
    "    return [\n",
    "    ds_dt + est_beta * s * i / N,\n",
    "    di_dt - est_beta * s * i / N + est_gamma * i + mu * i,\n",
    "    dr_dt - est_gamma * i,\n",
    "    dd_dt - est_mu * i\n",
    "    ]"
   ]
  },
  {
   "cell_type": "code",
   "execution_count": 92,
   "metadata": {},
   "outputs": [],
   "source": [
    "# Define the time domain of the ODE:\n",
    "geom = dde.geometry.TimeDomain(0, T)\n",
    "\n",
    "# Create the time vector for the known data:\n",
    "t = np.reshape(np.linspace(0, T, num_samples), (num_samples, 1))\n",
    "\n",
    "# Create the boundary function to determine if x is on the boundary or not:\n",
    "def boundary(_, on_initial):\n",
    "    return on_initial\n",
    "\n",
    "# Specify the intial values:\n",
    "ic_s = dde.IC(geom, lambda X: s0, boundary, component= 0)\n",
    "ic_i = dde.IC(geom, lambda X: i0, boundary, component= 1)\n",
    "ic_r = dde.IC(geom, lambda X: r0, boundary, component= 2)\n",
    "ic_d = dde.IC(geom, lambda X: d0, boundary, component= 3)\n",
    "\n",
    "# Define the boundary conditions from the solution of the ODE solver:\n",
    "observe_s = dde.PointSetBC(t, y_true[:, 0:1], component= 0)\n",
    "observe_i = dde.PointSetBC(t, y_true[:, 1:2], component= 1)\n",
    "observe_r = dde.PointSetBC(t, y_true[:, 2:3], component= 2)\n",
    "observe_d = dde.PointSetBC(t, y_true[:, 3:4], component= 3)"
   ]
  },
  {
   "cell_type": "code",
   "execution_count": 93,
   "metadata": {},
   "outputs": [
    {
     "name": "stdout",
     "output_type": "stream",
     "text": [
      "(2046, 4)\n"
     ]
    }
   ],
   "source": [
    "print(y_true.shape)"
   ]
  },
  {
   "cell_type": "code",
   "execution_count": 94,
   "metadata": {},
   "outputs": [],
   "source": [
    "# Define the data class:\n",
    "data = dde.data.PDE(\n",
    "    geom,\n",
    "    ode_system,\n",
    "    [ic_s, ic_i, ic_r, ic_d, observe_s, observe_i, observe_r, observe_d],\n",
    "    num_domain= num_samples,\n",
    "    num_boundary= num_boundary,\n",
    "    anchors= t)"
   ]
  },
  {
   "cell_type": "code",
   "execution_count": 95,
   "metadata": {},
   "outputs": [],
   "source": [
    "# Define and create the neural network:\n",
    "layer_size = [1] + [32] * 3 + [4]\n",
    "activation = \"tanh\"\n",
    "initializer = \"Glorot normal\"\n",
    "net = dde.maps.FNN(layer_size, activation, initializer)"
   ]
  },
  {
   "cell_type": "code",
   "execution_count": 96,
   "metadata": {},
   "outputs": [
    {
     "name": "stdout",
     "output_type": "stream",
     "text": [
      "Compiling model...\n",
      "Warning: For the backend tensorflow.compat.v1, `external_trainable_variables` is ignored, and all trainable ``tf.Variable`` objects are automatically collected.\n",
      "Building feed-forward neural network...\n",
      "'build' took 0.044712 s\n",
      "\n"
     ]
    },
    {
     "name": "stderr",
     "output_type": "stream",
     "text": [
      "/Users/emilhaugstvedt/opt/anaconda3/envs/mlp/lib/python3.8/site-packages/keras/legacy_tf_layers/core.py:236: UserWarning: `tf.layers.dense` is deprecated and will be removed in a future version. Please use `tf.keras.layers.Dense` instead.\n",
      "  warnings.warn('`tf.layers.dense` is deprecated and '\n",
      "/Users/emilhaugstvedt/opt/anaconda3/envs/mlp/lib/python3.8/site-packages/keras/engine/base_layer_v1.py:1676: UserWarning: `layer.apply` is deprecated and will be removed in a future version. Please use `layer.__call__` method instead.\n",
      "  warnings.warn('`layer.apply` is deprecated and '\n",
      "2021-12-02 12:17:04.565512: I tensorflow/core/common_runtime/pluggable_device/pluggable_device_factory.cc:305] Could not identify NUMA node of platform GPU ID 0, defaulting to 0. Your kernel may not have been built with NUMA support.\n",
      "2021-12-02 12:17:04.565606: I tensorflow/core/common_runtime/pluggable_device/pluggable_device_factory.cc:271] Created TensorFlow device (/job:localhost/replica:0/task:0/device:GPU:0 with 0 MB memory) -> physical PluggableDevice (device: 0, name: METAL, pci bus id: <undefined>)\n"
     ]
    },
    {
     "name": "stdout",
     "output_type": "stream",
     "text": [
      "'compile' took 0.503318 s\n",
      "\n"
     ]
    }
   ],
   "source": [
    "# Combine the data and network into a model:\n",
    "model = dde.Model(data, net)\n",
    "model.compile(\"adam\", lr=0.0001, external_trainable_variables=[est_beta, est_gamma, est_mu])\n",
    "\n",
    "# Define when to collect the updated values of the variables and save them to a file:\n",
    "variable = dde.callbacks.VariableValue(\n",
    "    [est_beta, est_gamma, est_mu], period=600, filename=\"variables.dat\"\n",
    ")\n",
    "\n",
    "# Train the model:\n",
    "losshistory, train_state = model.train(epochs=20000, callbacks=[variable], display_every= 5000)\n",
    "dde.saveplot(losshistory, train_state, issave=False, isplot=True)"
   ]
  },
  {
   "cell_type": "code",
   "execution_count": 117,
   "metadata": {},
   "outputs": [
    {
     "name": "stdout",
     "output_type": "stream",
     "text": [
      "The variables are estimated to be:\n",
      "0.01995\n",
      "0.00666\n",
      "0.00165\n",
      "While the true variables are:\n",
      "0.02\n",
      "0.00667\n",
      "0.00167\n"
     ]
    }
   ],
   "source": [
    "print(\"The variables are estimated to be:\")\n",
    "\n",
    "for var in variable.get_value():\n",
    "    print(round(var, 5))\n",
    "\n",
    "print(\"While the true variables are:\")\n",
    "print(round(beta, 5)), print(round(gamma, 5)), print(round(mu, 5));"
   ]
  },
  {
   "cell_type": "code",
   "execution_count": null,
   "metadata": {},
   "outputs": [],
   "source": []
  }
 ],
 "metadata": {
  "interpreter": {
   "hash": "4db728f83ef3aba305a79af3d77792080a83a7578e37e2c67226816ed17c5d1d"
  },
  "kernelspec": {
   "display_name": "Python 3.8.12 64-bit ('mlp': conda)",
   "language": "python",
   "name": "python3"
  },
  "language_info": {
   "codemirror_mode": {
    "name": "ipython",
    "version": 3
   },
   "file_extension": ".py",
   "mimetype": "text/x-python",
   "name": "python",
   "nbconvert_exporter": "python",
   "pygments_lexer": "ipython3",
   "version": "3.8.12"
  },
  "orig_nbformat": 4
 },
 "nbformat": 4,
 "nbformat_minor": 2
}
