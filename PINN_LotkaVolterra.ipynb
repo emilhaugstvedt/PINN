{
  "cells": [
    {
      "cell_type": "markdown",
      "metadata": {
        "id": "O_h5MDGzC8Zq"
      },
      "source": [
        "# PINN - Lotka-Volterra equation"
      ]
    },
    {
      "cell_type": "code",
      "execution_count": 30,
      "metadata": {
        "cell_id": "00000-117afb10-39a1-455a-aeda-3fa4c92ecdd6",
        "colab": {
          "base_uri": "https://localhost:8080/",
          "height": 374
        },
        "deepnote_cell_type": "code",
        "deepnote_to_be_reexecuted": false,
        "execution_millis": 1,
        "execution_start": 1637921182368,
        "id": "24i6_tC9vdce",
        "outputId": "bf6b2cdf-73fc-42b7-dc26-194e6bb469f0",
        "source_hash": "75e10721",
        "tags": []
      },
      "outputs": [
        {
          "name": "stderr",
          "output_type": "stream",
          "text": [
            "Using backend: tensorflow.compat.v1\n",
            "\n"
          ]
        },
        {
          "name": "stdout",
          "output_type": "stream",
          "text": [
            "WARNING:tensorflow:From /Users/emilhaugstvedt/opt/anaconda3/envs/mlp/lib/python3.8/site-packages/tensorflow/python/compat/v2_compat.py:101: disable_resource_variables (from tensorflow.python.ops.variable_scope) is deprecated and will be removed in a future version.\n",
            "Instructions for updating:\n",
            "non-resource variables are not supported in the long term\n",
            "WARNING:tensorflow:From /Users/emilhaugstvedt/opt/anaconda3/envs/mlp/lib/python3.8/site-packages/deepxde/nn/initializers.py:120: The name tf.keras.initializers.he_normal is deprecated. Please use tf.compat.v1.keras.initializers.he_normal instead.\n",
            "\n"
          ]
        }
      ],
      "source": [
        "#!pip install deepxde\n",
        "import deepxde as dde\n",
        "from deepxde.backend import tf\n",
        "import numpy as np\n",
        "import matplotlib.pyplot as plt"
      ]
    },
    {
      "cell_type": "markdown",
      "metadata": {
        "id": "y61qfkDvGZfi"
      },
      "source": [
        "In this project we will try to replicate the solution of the below Lotka-Volterra equation. The equation is on the following form:\n",
        "\n",
        "$$\n",
        "\\dot{x} = α x - β xy \\\\\n",
        "\\dot{y} = δxy - γy\n",
        "$$\n",
        "\n",
        "Below you can see the solution of the equation with α, β, γ, δ = 1 and initial conditions of x(0) = 4 and y(0) = 2.\n"
      ]
    },
    {
      "cell_type": "code",
      "execution_count": 31,
      "metadata": {
        "id": "6N7jCIFZ2Sis"
      },
      "outputs": [],
      "source": [
        "# Parameters:\n",
        "alpha = 1\n",
        "beta = 1\n",
        "delta = 1\n",
        "gamma = 1\n",
        "\n",
        "num_samples = 500\n",
        "T = 25\n",
        "icx1 = 10\n",
        "icx2 = 2"
      ]
    },
    {
      "cell_type": "markdown",
      "metadata": {
        "id": "1D3bgtLb2Tpx"
      },
      "source": [
        "Solve equation using an ODE initial value problem solver:"
      ]
    },
    {
      "cell_type": "code",
      "execution_count": 32,
      "metadata": {
        "colab": {
          "base_uri": "https://localhost:8080/",
          "height": 282
        },
        "id": "etpW5Xq4DniA",
        "outputId": "30bd48e5-d157-4168-930d-4fc7129c06dc"
      },
      "outputs": [
        {
          "data": {
            "text/plain": [
              "[<matplotlib.lines.Line2D at 0x7f828ba82490>]"
            ]
          },
          "execution_count": 32,
          "metadata": {},
          "output_type": "execute_result"
        },
        {
          "data": {
            "image/png": "[encoded data removed]",
            "text/plain": [
              "<Figure size 432x288 with 1 Axes>"
            ]
          },
          "metadata": {
            "needs_background": "light"
          },
          "output_type": "display_data"
        }
      ],
      "source": [
        "from scipy import integrate\n",
        "import numpy as np\n",
        "import matplotlib.pyplot as plt\n",
        "\n",
        "# Defining the derivatives of the equation.\n",
        "def derivatives(t, r):\n",
        "    x1, x2 = r\n",
        "    dx1_t = (alpha * x1 - beta * x1 * x2)\n",
        "    dx2_t = (gamma * x1 * x2 - delta * x2)\n",
        "    return dx1_t, dx2_t\n",
        "\n",
        "\n",
        "t = np.linspace(0, T, num_samples)\n",
        "\n",
        "# Solve equation:\n",
        "sol = integrate.solve_ivp(derivatives, (0, T), (icx1, icx2), t_eval=t)\n",
        "x1_true, x2_true = sol.y\n",
        "x1_true = x1_true.reshape(-1, 1)\n",
        "x2_true = x2_true.reshape(-1, 1)\n",
        "plt.plot(t, x1_true, color=\"black\", label=\"x_true\")\n",
        "plt.plot(t, x2_true, color=\"blue\", label=\"y_true\")"
      ]
    },
    {
      "cell_type": "markdown",
      "metadata": {
        "id": "vaVxDtbODghk"
      },
      "source": [
        "Now we will try to reproduce the results presented above using the DeepXDE PINN package. And compare the results at the end."
      ]
    },
    {
      "cell_type": "code",
      "execution_count": 34,
      "metadata": {
        "cell_id": "00002-28cda6a2-dc77-471e-b8d3-e83725015a47",
        "colab": {
          "base_uri": "https://localhost:8080/",
          "height": 1000
        },
        "deepnote_cell_type": "code",
        "deepnote_to_be_reexecuted": false,
        "execution_millis": 423575,
        "execution_start": 1637921207350,
        "id": "2eaW0Lmrvdcg",
        "outputId": "d62c779e-3452-40bb-e4c1-c86c0433ada9",
        "source_hash": "d023bec6",
        "tags": []
      },
      "outputs": [
        {
          "name": "stdout",
          "output_type": "stream",
          "text": [
            "Compiling model...\n",
            "Building feed-forward neural network...\n",
            "'build' took 0.033766 s\n",
            "\n",
            "'compile' took 0.213136 s\n",
            "\n"
          ]
        },
        {
          "name": "stderr",
          "output_type": "stream",
          "text": [
            "2021-11-30 16:48:07.496176: I tensorflow/core/common_runtime/pluggable_device/pluggable_device_factory.cc:305] Could not identify NUMA node of platform GPU ID 0, defaulting to 0. Your kernel may not have been built with NUMA support.\n",
            "2021-11-30 16:48:07.496283: I tensorflow/core/common_runtime/pluggable_device/pluggable_device_factory.cc:271] Created TensorFlow device (/job:localhost/replica:0/task:0/device:GPU:0 with 0 MB memory) -> physical PluggableDevice (device: 0, name: METAL, pci bus id: <undefined>)\n",
            "2021-11-30 16:48:07.695366: I tensorflow/core/grappler/optimizers/custom_graph_optimizer_registry.cc:112] Plugin optimizer for device_type GPU is enabled.\n"
          ]
        },
        {
          "name": "stdout",
          "output_type": "stream",
          "text": [
            "Initializing variables...\n",
            "Training model...\n",
            "\n",
            "0         [1.46e-02, 1.73e-01, 1.60e+01, 4.00e+00]    [1.46e-02, 1.73e-01, 1.60e+01, 4.00e+00]    []  \n"
          ]
        },
        {
          "name": "stderr",
          "output_type": "stream",
          "text": [
            "2021-11-30 16:48:07.737938: I tensorflow/core/grappler/optimizers/custom_graph_optimizer_registry.cc:112] Plugin optimizer for device_type GPU is enabled.\n",
            "2021-11-30 16:48:07.889398: I tensorflow/core/grappler/optimizers/custom_graph_optimizer_registry.cc:112] Plugin optimizer for device_type GPU is enabled.\n"
          ]
        },
        {
          "name": "stdout",
          "output_type": "stream",
          "text": [
            "1000      [6.86e-03, 5.04e-03, 1.50e-06, 5.18e-07]    [6.93e-03, 5.04e-03, 1.50e-06, 5.18e-07]    []  \n",
            "2000      [5.87e-03, 4.26e-03, 3.36e-07, 2.21e-06]    [5.92e-03, 4.25e-03, 3.36e-07, 2.21e-06]    []  \n",
            "3000      [5.09e-03, 3.92e-03, 2.52e-07, 2.26e-07]    [5.13e-03, 3.91e-03, 2.52e-07, 2.26e-07]    []  \n",
            "4000      [4.73e-03, 3.72e-03, 2.59e-07, 5.51e-08]    [4.77e-03, 3.71e-03, 2.59e-07, 5.51e-08]    []  \n",
            "5000      [4.24e-03, 3.72e-03, 3.73e-07, 2.71e-06]    [4.27e-03, 3.72e-03, 3.73e-07, 2.71e-06]    []  \n",
            "6000      [3.71e-03, 3.39e-03, 2.23e-07, 3.47e-08]    [3.74e-03, 3.39e-03, 2.23e-07, 3.47e-08]    []  \n",
            "7000      [3.39e-03, 3.10e-03, 1.85e-07, 2.37e-07]    [3.42e-03, 3.09e-03, 1.85e-07, 2.37e-07]    []  \n",
            "8000      [3.12e-03, 2.80e-03, 1.19e-06, 1.35e-06]    [3.14e-03, 2.80e-03, 1.19e-06, 1.35e-06]    []  \n",
            "9000      [2.85e-03, 2.64e-03, 2.97e-07, 1.95e-07]    [2.87e-03, 2.64e-03, 2.97e-07, 1.95e-07]    []  \n",
            "10000     [2.70e-03, 2.45e-03, 6.54e-08, 1.47e-07]    [2.72e-03, 2.45e-03, 6.54e-08, 1.47e-07]    []  \n",
            "11000     [2.55e-03, 2.28e-03, 7.57e-08, 3.45e-08]    [2.57e-03, 2.28e-03, 7.57e-08, 3.45e-08]    []  \n",
            "12000     [2.39e-03, 2.08e-03, 8.81e-06, 1.78e-06]    [2.41e-03, 2.08e-03, 8.81e-06, 1.78e-06]    []  \n",
            "13000     [2.06e-03, 2.20e-03, 1.02e-06, 5.37e-05]    [2.08e-03, 2.20e-03, 1.02e-06, 5.37e-05]    []  \n",
            "14000     [1.96e-03, 1.91e-03, 4.58e-08, 7.61e-09]    [1.98e-03, 1.92e-03, 4.58e-08, 7.61e-09]    []  \n",
            "15000     [1.86e-03, 1.81e-03, 1.34e-08, 9.76e-07]    [1.88e-03, 1.82e-03, 1.34e-08, 9.76e-07]    []  \n",
            "16000     [1.76e-03, 1.70e-03, 2.04e-07, 6.81e-09]    [1.78e-03, 1.70e-03, 2.04e-07, 6.81e-09]    []  \n",
            "17000     [1.67e-03, 1.58e-03, 7.14e-08, 4.20e-10]    [1.68e-03, 1.58e-03, 7.14e-08, 4.20e-10]    []  \n",
            "18000     [1.55e-03, 1.49e-03, 4.27e-06, 4.44e-09]    [1.56e-03, 1.49e-03, 4.27e-06, 4.44e-09]    []  \n",
            "19000     [1.47e-03, 1.42e-03, 4.27e-09, 4.45e-10]    [1.47e-03, 1.43e-03, 4.27e-09, 4.45e-10]    []  \n",
            "20000     [1.39e-03, 1.33e-03, 9.56e-11, 2.75e-08]    [1.40e-03, 1.34e-03, 9.56e-11, 2.75e-08]    []  \n",
            "\n",
            "Best model at step 20000:\n",
            "  train loss: 2.73e-03\n",
            "  test loss: 2.74e-03\n",
            "  test metric: []\n",
            "\n",
            "'train' took 309.607589 s\n",
            "\n",
            "Compiling model...\n",
            "'compile' took 0.130825 s\n",
            "\n",
            "Training model...\n",
            "\n",
            "Step      Train loss                                  Test loss                                   Test metric\n",
            "20000     [1.39e-03, 1.33e-03, 9.56e-11, 2.75e-08]    [1.40e-03, 1.34e-03, 9.56e-11, 2.75e-08]    []  \n"
          ]
        },
        {
          "name": "stderr",
          "output_type": "stream",
          "text": [
            "2021-11-30 16:53:17.475979: I tensorflow/core/grappler/optimizers/custom_graph_optimizer_registry.cc:112] Plugin optimizer for device_type GPU is enabled.\n",
            "2021-11-30 16:53:17.526364: I tensorflow/core/grappler/optimizers/custom_graph_optimizer_registry.cc:112] Plugin optimizer for device_type GPU is enabled.\n",
            "2021-11-30 16:53:17.533332: I tensorflow/core/grappler/optimizers/custom_graph_optimizer_registry.cc:112] Plugin optimizer for device_type GPU is enabled.\n",
            "2021-11-30 16:53:17.657794: I tensorflow/core/grappler/optimizers/custom_graph_optimizer_registry.cc:112] Plugin optimizer for device_type GPU is enabled.\n",
            "2021-11-30 16:53:17.730722: I tensorflow/core/grappler/optimizers/custom_graph_optimizer_registry.cc:112] Plugin optimizer for device_type GPU is enabled.\n"
          ]
        },
        {
          "name": "stdout",
          "output_type": "stream",
          "text": [
            "21000     [2.46e-04, 2.66e-04, 9.62e-08, 2.00e-08]                                                    \n",
            "22000     [5.05e-05, 6.53e-05, 2.93e-09, 4.02e-09]                                                    \n",
            "23000     [1.95e-05, 3.17e-05, 4.08e-09, 2.87e-10]                                                    \n",
            "INFO:tensorflow:Optimization terminated with:\n",
            "  Message: CONVERGENCE: REL_REDUCTION_OF_F_<=_FACTR*EPSMCH\n",
            "  Objective function value: 0.000035\n",
            "  Number of iterations: 3352\n",
            "  Number of functions evaluations: 3569\n",
            "23569     [1.57e-05, 1.93e-05, 3.92e-10, 2.15e-10]    [1.57e-05, 1.92e-05, 3.92e-10, 2.15e-10]    []  \n",
            "\n",
            "Best model at step 23569:\n",
            "  train loss: 3.50e-05\n",
            "  test loss: 3.49e-05\n",
            "  test metric: []\n",
            "\n",
            "'train' took 115.034326 s\n",
            "\n",
            "Saving loss history to /Users/emilhaugstvedt/Desktop/DTU/DeepLearning/PINN/loss.dat ...\n",
            "Saving training data to /Users/emilhaugstvedt/Desktop/DTU/DeepLearning/PINN/train.dat ...\n",
            "Saving test data to /Users/emilhaugstvedt/Desktop/DTU/DeepLearning/PINN/test.dat ...\n"
          ]
        },
        {
          "name": "stderr",
          "output_type": "stream",
          "text": [
            "2021-11-30 16:55:12.403406: I tensorflow/core/grappler/optimizers/custom_graph_optimizer_registry.cc:112] Plugin optimizer for device_type GPU is enabled.\n"
          ]
        },
        {
          "data": {
            "image/png": "[encoded data removed]",
            "text/plain": [
              "<Figure size 432x288 with 1 Axes>"
            ]
          },
          "metadata": {
            "needs_background": "light"
          },
          "output_type": "display_data"
        },
        {
          "data": {
            "image/png": "[encoded data removed]",
            "text/plain": [
              "<Figure size 432x288 with 1 Axes>"
            ]
          },
          "metadata": {
            "needs_background": "light"
          },
          "output_type": "display_data"
        }
      ],
      "source": [
        "from deepxde.backend import tf\n",
        "import numpy as np\n",
        "import matplotlib.pyplot as plt\n",
        "\n",
        "# Define the ODE-system:\n",
        "def ode_system(x, y):\n",
        "    x1 = y[:, 0:1]\n",
        "    x2 = y[:, 1:2]\n",
        "    dx1_t = dde.grad.jacobian(y, x, i=0)\n",
        "    dx2_t = dde.grad.jacobian(y, x, i=1)\n",
        "    return [\n",
        "        dx1_t - (alpha * x1 - beta * x1 * x2),\n",
        "        dx2_t - (gamma * x1 * x2 - delta * x2),\n",
        "    ]\n",
        "\n",
        "# Function for determening if x on boundary or not:\n",
        "def boundary(_, on_initial):\n",
        "    return on_initial\n",
        "\n",
        "# Define the time domain of the ODE:\n",
        "geom = dde.geometry.TimeDomain(0.0, T)\n",
        "\n",
        "# Set the intial values:\n",
        "ic1 = dde.IC(geom, lambda X: 4, boundary, component=0)\n",
        "ic2 = dde.IC(geom, lambda X: 2, boundary, component=1)\n",
        "\n",
        "# Create the equation:\n",
        "data = dde.data.PDE(geom, ode_system, [ic1, ic2], 1000, 2, num_test=300)\n",
        "\n",
        "# Define and create the neural network:\n",
        "layer_size = [1] + [64] * 4 + [2]\n",
        "activation = \"tanh\"\n",
        "initializer = \"Glorot normal\"\n",
        "net = dde.maps.FNN(layer_size, activation, initializer)\n",
        "\n",
        "# Combine the data and network into a model:\n",
        "model = dde.Model(data, net)\n",
        "\n",
        "# Training:\n",
        "model.compile(\"adam\", lr=0.001)\n",
        "losshistory, train_state = model.train(epochs=20000)\n",
        "\n",
        "model.compile(\"L-BFGS\")\n",
        "losshistory, train_state = model.train()\n",
        "\n",
        "# Plot and save\n",
        "dde.saveplot(losshistory, train_state, issave=True, isplot=True)"
      ]
    },
    {
      "cell_type": "code",
      "execution_count": null,
      "metadata": {
        "cell_id": "00003-606a4ff5-7e31-4ae7-8a3b-abfd305197a9",
        "colab": {
          "base_uri": "https://localhost:8080/",
          "height": 314
        },
        "deepnote_cell_type": "code",
        "deepnote_to_be_reexecuted": true,
        "id": "OFtXNT2Vvdci",
        "outputId": "4a16cd03-4195-4b18-85cb-677b43fb63b6",
        "source_hash": "21aa5194",
        "tags": []
      },
      "outputs": [
        {
          "name": "stderr",
          "output_type": "stream",
          "text": [
            "2021-11-27 11:22:47.238798: I tensorflow/core/grappler/optimizers/custom_graph_optimizer_registry.cc:112] Plugin optimizer for device_type GPU is enabled.\n"
          ]
        },
        {
          "data": {
            "image/png": "[encoded data removed]",
            "text/plain": [
              "<Figure size 432x288 with 1 Axes>"
            ]
          },
          "metadata": {
            "needs_background": "light"
          },
          "output_type": "display_data"
        },
        {
          "name": "stdout",
          "output_type": "stream",
          "text": [
            "L2 relative error for x: 0.20658064314185193\n",
            "L2 relative error for y: 0.18386044182582592\n"
          ]
        }
      ],
      "source": [
        "# Plot the two solutions in the same plot:\n",
        "x1_true, x2_true = sol.y\n",
        "x1_true = x1_true.reshape(num_samples, 1)\n",
        "x2_true = x2_true.reshape(num_samples, 1)\n",
        "plt.plot(t, x1_true, color=\"black\", label=\"x1_true\")\n",
        "plt.plot(t, x2_true, color=\"blue\", label=\"x2_true\")\n",
        "\n",
        "t = t.reshape(num_samples, 1)\n",
        "sol_pred = model.predict(t)\n",
        "x1_pred = sol_pred[:, 0:1]\n",
        "x2_pred = sol_pred[:, 1:2]\n",
        "\n",
        "plt.xlabel(\"t\")\n",
        "plt.ylabel(\"population\")\n",
        "plt.plot(t, x1_pred, color=\"red\", linestyle=\"dashed\", label=\"x1_pred\")\n",
        "plt.plot(t, x2_pred, color=\"orange\", linestyle=\"dashed\", label=\"x2_pred\")\n",
        "plt.legend()\n",
        "plt.show()\n",
        "\n",
        "print(\"L2 relative error for x:\", dde.metrics.l2_relative_error(x1_true, x1_pred))\n",
        "print(\"L2 relative error for y:\", dde.metrics.l2_relative_error(x2_true, x2_pred))"
      ]
    },
    {
      "cell_type": "markdown",
      "metadata": {},
      "source": [
        "Now we will try to solve the inverse problem, determine the $\\alpha$, $\\beta$, $\\delta$ and $\\gamma$ just knowing the form of the equation and data produced by the equation."
      ]
    },
    {
      "cell_type": "code",
      "execution_count": null,
      "metadata": {
        "id": "zumXPQEypKxb"
      },
      "outputs": [],
      "source": [
        "# Defining the variables we want to identify:\n",
        "alpha = dde.Variable(0.0)\n",
        "beta = dde.Variable(0.0)\n",
        "delta = dde.Variable(0.0)\n",
        "gamma = dde.Variable(0.0)\n",
        "\n",
        "# Define the time domain of the ODE:\n",
        "geom = dde.geometry.TimeDomain(0, 10)\n",
        "\n",
        "# Define the ODE of the system:\n",
        "def ode_system(x, y):\n",
        "    x1 = y[:, 0:1]\n",
        "    x2 = y[:, 1:2]\n",
        "    dx1_t = dde.grad.jacobian(y, x, i=0)\n",
        "    dx2_t = dde.grad.jacobian(y, x, i=1)\n",
        "    return [\n",
        "        dx1_t - (alpha * x1 - beta * x1 * x2),\n",
        "        dx2_t - (gamma * x1 * x2 - delta * x2),\n",
        "    ]"
      ]
    },
    {
      "cell_type": "code",
      "execution_count": null,
      "metadata": {
        "id": "ZbkovEKnpavx"
      },
      "outputs": [],
      "source": [
        "# Create the boundary function to determine if x is on the boundary or not:\n",
        "def boundary(_, on_initial):\n",
        "    return on_initial\n",
        "\n",
        "\n",
        "# Specify the intial values:\n",
        "ic1 = dde.IC(geom, lambda X: 4, boundary, component=0)\n",
        "ic2 = dde.IC(geom, lambda X: 2, boundary, component=1)"
      ]
    },
    {
      "cell_type": "code",
      "execution_count": null,
      "metadata": {
        "id": "7ebRGI18pguG"
      },
      "outputs": [],
      "source": [
        "# Create the time vector for the known data:\n",
        "t = np.reshape(np.linspace(0, T, num_samples), (num_samples, 1))\n",
        "\n",
        "# Get the known data from the ODE solver:\n",
        "x1_true, x2_true = sol.y\n",
        "x = np.concatenate([x1_true.reshape(len(x1_true), 1), x2_true.reshape(len(x2_true), 1)], axis= 1)\n"
      ]
    },
    {
      "cell_type": "code",
      "execution_count": null,
      "metadata": {
        "id": "XDX0LhOnq2RC"
      },
      "outputs": [],
      "source": [
        "# Define the boundary conditions in the \n",
        "observe_x1 = dde.PointSetBC(t, x[:, 0:1], component= 0)\n",
        "observe_x2 = dde.PointSetBC(t, x[:, 1:2], component= 1)"
      ]
    },
    {
      "cell_type": "code",
      "execution_count": null,
      "metadata": {
        "colab": {
          "base_uri": "https://localhost:8080/"
        },
        "id": "aTtBqdG7q7yv",
        "outputId": "66cd6620-1ac6-4397-c70b-5225be25d6ba"
      },
      "outputs": [
        {
          "name": "stderr",
          "output_type": "stream",
          "text": [
            "/Users/emilhaugstvedt/opt/anaconda3/envs/mlp/lib/python3.8/site-packages/skopt/sampler/sobol.py:246: UserWarning: The balance properties of Sobol' points require n to be a power of 2. 0 points have been previously generated, then: n=0+102=102. \n",
            "  warnings.warn(\"The balance properties of Sobol' points require \"\n"
          ]
        }
      ],
      "source": [
        "# Define the data class:\n",
        "data = dde.data.PDE(\n",
        "    geom,\n",
        "    ode_system,\n",
        "    [ic1, ic2, observe_x1, observe_x2],\n",
        "    num_domain= 100,\n",
        "    num_boundary= 2,\n",
        "    anchors= t)"
      ]
    },
    {
      "cell_type": "code",
      "execution_count": null,
      "metadata": {
        "colab": {
          "base_uri": "https://localhost:8080/",
          "height": 731
        },
        "id": "P17H153VuOwm",
        "outputId": "f2792c34-df69-4b89-cd31-d19749697a77"
      },
      "outputs": [
        {
          "ename": "NameError",
          "evalue": "name 'dde' is not defined",
          "output_type": "error",
          "traceback": [
            "\u001b[0;31m---------------------------------------------------------------------------\u001b[0m",
            "\u001b[0;31mNameError\u001b[0m                                 Traceback (most recent call last)",
            "\u001b[0;32m/var/folders/f5/y5jwy7g16938953ybw9d9kpc0000gn/T/ipykernel_6779/3023699126.py\u001b[0m in \u001b[0;36m<module>\u001b[0;34m\u001b[0m\n\u001b[1;32m      1\u001b[0m \u001b[0;31m# Create neural network:\u001b[0m\u001b[0;34m\u001b[0m\u001b[0;34m\u001b[0m\u001b[0;34m\u001b[0m\u001b[0m\n\u001b[0;32m----> 2\u001b[0;31m \u001b[0mnet\u001b[0m \u001b[0;34m=\u001b[0m \u001b[0mdde\u001b[0m\u001b[0;34m.\u001b[0m\u001b[0mmaps\u001b[0m\u001b[0;34m.\u001b[0m\u001b[0mFNN\u001b[0m\u001b[0;34m(\u001b[0m\u001b[0;34m[\u001b[0m\u001b[0;36m1\u001b[0m\u001b[0;34m]\u001b[0m \u001b[0;34m+\u001b[0m \u001b[0;34m[\u001b[0m\u001b[0;36m40\u001b[0m\u001b[0;34m]\u001b[0m \u001b[0;34m*\u001b[0m \u001b[0;36m3\u001b[0m \u001b[0;34m+\u001b[0m \u001b[0;34m[\u001b[0m\u001b[0;36m2\u001b[0m\u001b[0;34m]\u001b[0m\u001b[0;34m,\u001b[0m \u001b[0;34m\"tanh\"\u001b[0m\u001b[0;34m,\u001b[0m \u001b[0;34m\"Glorot uniform\"\u001b[0m\u001b[0;34m)\u001b[0m\u001b[0;34m\u001b[0m\u001b[0;34m\u001b[0m\u001b[0m\n\u001b[0m\u001b[1;32m      3\u001b[0m \u001b[0;34m\u001b[0m\u001b[0m\n\u001b[1;32m      4\u001b[0m \u001b[0;31m# Combine the data and network into a model:\u001b[0m\u001b[0;34m\u001b[0m\u001b[0;34m\u001b[0m\u001b[0;34m\u001b[0m\u001b[0m\n\u001b[1;32m      5\u001b[0m \u001b[0mmodel\u001b[0m \u001b[0;34m=\u001b[0m \u001b[0mdde\u001b[0m\u001b[0;34m.\u001b[0m\u001b[0mModel\u001b[0m\u001b[0;34m(\u001b[0m\u001b[0mdata\u001b[0m\u001b[0;34m,\u001b[0m \u001b[0mnet\u001b[0m\u001b[0;34m)\u001b[0m\u001b[0;34m\u001b[0m\u001b[0;34m\u001b[0m\u001b[0m\n",
            "\u001b[0;31mNameError\u001b[0m: name 'dde' is not defined"
          ]
        }
      ],
      "source": [
        "# Create neural network:\n",
        "net = dde.maps.FNN([1] + [40] * 3 + [2], \"tanh\", \"Glorot uniform\")\n",
        "\n",
        "# Combine the data and network into a model:\n",
        "model = dde.Model(data, net)\n",
        "model.compile(\"adam\", lr=0.0001, external_trainable_variables=[alpha, beta, delta, gamma])\n",
        "\n",
        "# Define when to collect the updated values of the variables and save them to a file:\n",
        "variable = dde.callbacks.VariableValue(\n",
        "    [alpha, beta, delta, gamma], period=600, filename=\"variables.dat\"\n",
        ")\n",
        "\n",
        "# Train the model:\n",
        "losshistory, train_state = model.train(epochs=20000, callbacks=[variable], display_every= 1000)\n",
        "dde.saveplot(losshistory, train_state, issave=True, isplot=True)"
      ]
    },
    {
      "cell_type": "code",
      "execution_count": null,
      "metadata": {},
      "outputs": [],
      "source": []
    },
    {
      "cell_type": "code",
      "execution_count": null,
      "metadata": {},
      "outputs": [],
      "source": []
    }
  ],
  "metadata": {
    "accelerator": "GPU",
    "colab": {
      "name": "PINN-LotkaVolterra.ipynb",
      "provenance": []
    },
    "deepnote": {
      "is_reactive": false
    },
    "deepnote_execution_queue": [],
    "deepnote_notebook_id": "748b321b-b3b2-41cf-924d-ec49b4ff9a08",
    "kernelspec": {
      "display_name": "Python 3",
      "name": "python3"
    },
    "language_info": {
      "codemirror_mode": {
        "name": "ipython",
        "version": 3
      },
      "file_extension": ".py",
      "mimetype": "text/x-python",
      "name": "python",
      "nbconvert_exporter": "python",
      "pygments_lexer": "ipython3",
      "version": "3.8.12"
    },
    "orig_nbformat": 2
  },
  "nbformat": 4,
  "nbformat_minor": 0
}
